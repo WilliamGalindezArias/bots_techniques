{
 "cells": [
  {
   "cell_type": "code",
   "execution_count": 1,
   "metadata": {},
   "outputs": [],
   "source": [
    "import pandas as pd\n",
    "import numpy as np\n",
    "from sklearn.feature_extraction.text import TfidfVectorizer\n",
    "import operator"
   ]
  },
  {
   "cell_type": "code",
   "execution_count": 4,
   "metadata": {},
   "outputs": [
    {
     "data": {
      "text/html": [
       "<div>\n",
       "<style scoped>\n",
       "    .dataframe tbody tr th:only-of-type {\n",
       "        vertical-align: middle;\n",
       "    }\n",
       "\n",
       "    .dataframe tbody tr th {\n",
       "        vertical-align: top;\n",
       "    }\n",
       "\n",
       "    .dataframe thead th {\n",
       "        text-align: right;\n",
       "    }\n",
       "</style>\n",
       "<table border=\"1\" class=\"dataframe\">\n",
       "  <thead>\n",
       "    <tr style=\"text-align: right;\">\n",
       "      <th></th>\n",
       "      <th>QUESTION</th>\n",
       "      <th>ANSWER</th>\n",
       "    </tr>\n",
       "  </thead>\n",
       "  <tbody>\n",
       "    <tr>\n",
       "      <th>1028</th>\n",
       "      <td>Is your Business Continuity Programme audited ...</td>\n",
       "      <td>Internal audit reviews for BCP/DR. Repeated an...</td>\n",
       "    </tr>\n",
       "    <tr>\n",
       "      <th>1029</th>\n",
       "      <td>Have you developed a Crisis Management Plan? *</td>\n",
       "      <td>CA Technologies has a Global Security Crisis M...</td>\n",
       "    </tr>\n",
       "    <tr>\n",
       "      <th>1030</th>\n",
       "      <td>Does the membership of your Crisis Management ...</td>\n",
       "      <td>The CA Crisis Management Team, will form, coor...</td>\n",
       "    </tr>\n",
       "    <tr>\n",
       "      <th>1031</th>\n",
       "      <td>Have media spokespersons been nominated in the...</td>\n",
       "      <td>CA Technologies, Inc. SaaS must engage with CA...</td>\n",
       "    </tr>\n",
       "    <tr>\n",
       "      <th>1032</th>\n",
       "      <td>Have staff been instructed to direct all media...</td>\n",
       "      <td>Communications with third parties such as the ...</td>\n",
       "    </tr>\n",
       "  </tbody>\n",
       "</table>\n",
       "</div>"
      ],
      "text/plain": [
       "                                               QUESTION  \\\n",
       "1028  Is your Business Continuity Programme audited ...   \n",
       "1029     Have you developed a Crisis Management Plan? *   \n",
       "1030  Does the membership of your Crisis Management ...   \n",
       "1031  Have media spokespersons been nominated in the...   \n",
       "1032  Have staff been instructed to direct all media...   \n",
       "\n",
       "                                                 ANSWER  \n",
       "1028  Internal audit reviews for BCP/DR. Repeated an...  \n",
       "1029  CA Technologies has a Global Security Crisis M...  \n",
       "1030  The CA Crisis Management Team, will form, coor...  \n",
       "1031  CA Technologies, Inc. SaaS must engage with CA...  \n",
       "1032  Communications with third parties such as the ...  "
      ]
     },
     "execution_count": 4,
     "metadata": {},
     "output_type": "execute_result"
    }
   ],
   "source": [
    "rfp_data = pd.read_csv('ppm_rfp.csv', encoding='latin-1')\n",
    "rfp_data.tail()\n"
   ]
  },
  {
   "cell_type": "code",
   "execution_count": 5,
   "metadata": {},
   "outputs": [
    {
     "name": "stdout",
     "output_type": "stream",
     "text": [
      "1033\n"
     ]
    }
   ],
   "source": [
    "questions = rfp_data['QUESTION'].values.tolist()\n",
    "answers = rfp_data['ANSWER'].values.tolist()\n",
    "print(len(answers))"
   ]
  },
  {
   "cell_type": "code",
   "execution_count": 56,
   "metadata": {},
   "outputs": [],
   "source": [
    "vectorizer = TfidfVectorizer(min_df=0, ngram_range=(2,6), strip_accents='unicode', norm='l2', encoding='ISO-8858-1')"
   ]
  },
  {
   "cell_type": "code",
   "execution_count": 57,
   "metadata": {},
   "outputs": [],
   "source": [
    "X_train = vectorizer.fit_transform(np.array([''.join(question) for question in questions]))"
   ]
  },
  {
   "cell_type": "code",
   "execution_count": 58,
   "metadata": {},
   "outputs": [],
   "source": [
    "def rfp_bot(query, X_train=X_train):\n",
    "    X_query = vectorizer.transform([query])\n",
    "    X_similarity = np.dot(X_train.todense(), X_query.transpose().todense())\n",
    "    x_similarity_score = np.array(X_similarity).flatten().tolist()\n",
    "    dict_similarities = dict(enumerate(x_similarity_score))\n",
    "    sorted_dict_sim = sorted(dict_similarities.items(), key=operator.itemgetter(1), reverse = True)\n",
    "    return sorted_dict_sim\n",
    "    "
   ]
  },
  {
   "cell_type": "code",
   "execution_count": 69,
   "metadata": {},
   "outputs": [],
   "source": [
    "query = \"why steffi is bitchy today\"\n",
    "answerbot = rfp_bot(query)"
   ]
  },
  {
   "cell_type": "code",
   "execution_count": 70,
   "metadata": {},
   "outputs": [
    {
     "name": "stdout",
     "output_type": "stream",
     "text": [
      "I have no answer at the moment\n"
     ]
    }
   ],
   "source": [
    "if answerbot[0][1]==0:\n",
    "    print('I have no answer at the moment')\n",
    "    \n",
    "elif answerbot[0][1]>0:\n",
    "    print(answers[answerbot[0][0]]) # accesing the dataframe with the higher TF-IDF\n",
    "    "
   ]
  },
  {
   "cell_type": "code",
   "execution_count": null,
   "metadata": {},
   "outputs": [],
   "source": []
  }
 ],
 "metadata": {
  "kernelspec": {
   "display_name": "Python 3",
   "language": "python",
   "name": "python3"
  },
  "language_info": {
   "codemirror_mode": {
    "name": "ipython",
    "version": 3
   },
   "file_extension": ".py",
   "mimetype": "text/x-python",
   "name": "python",
   "nbconvert_exporter": "python",
   "pygments_lexer": "ipython3",
   "version": "3.6.7"
  }
 },
 "nbformat": 4,
 "nbformat_minor": 2
}
