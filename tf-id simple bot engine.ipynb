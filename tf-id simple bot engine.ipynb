{
 "cells": [
  {
   "cell_type": "markdown",
   "metadata": {},
   "source": [
    "#### TF-ID Question/Answer assistant"
   ]
  },
  {
   "cell_type": "markdown",
   "metadata": {},
   "source": [
    "##### 1. Imports"
   ]
  },
  {
   "cell_type": "code",
   "execution_count": 74,
   "metadata": {},
   "outputs": [],
   "source": [
    "import pandas as pd\n",
    "from sklearn.feature_extraction.text import TfidfVectorizer\n",
    "import numpy as np\n",
    "import operator"
   ]
  },
  {
   "cell_type": "markdown",
   "metadata": {},
   "source": [
    "#####  2. The data, questions and answers"
   ]
  },
  {
   "cell_type": "code",
   "execution_count": 12,
   "metadata": {},
   "outputs": [],
   "source": [
    "sample_data = pd.read_csv('sample_questions.csv', header=None,skiprows=0)"
   ]
  },
  {
   "cell_type": "code",
   "execution_count": 42,
   "metadata": {},
   "outputs": [
    {
     "data": {
      "text/html": [
       "<div>\n",
       "<style scoped>\n",
       "    .dataframe tbody tr th:only-of-type {\n",
       "        vertical-align: middle;\n",
       "    }\n",
       "\n",
       "    .dataframe tbody tr th {\n",
       "        vertical-align: top;\n",
       "    }\n",
       "\n",
       "    .dataframe thead th {\n",
       "        text-align: right;\n",
       "    }\n",
       "</style>\n",
       "<table border=\"1\" class=\"dataframe\">\n",
       "  <thead>\n",
       "    <tr style=\"text-align: right;\">\n",
       "      <th></th>\n",
       "      <th>0</th>\n",
       "      <th>1</th>\n",
       "    </tr>\n",
       "  </thead>\n",
       "  <tbody>\n",
       "    <tr>\n",
       "      <th>0</th>\n",
       "      <td>I am looking for companies hiring in Prague!</td>\n",
       "      <td>Companies hiring in Prague we Have Devoteam</td>\n",
       "    </tr>\n",
       "    <tr>\n",
       "      <th>1</th>\n",
       "      <td>Looking for something in IT</td>\n",
       "      <td>Devoteam is hiring consultants for Diverse IT ...</td>\n",
       "    </tr>\n",
       "    <tr>\n",
       "      <th>2</th>\n",
       "      <td>I need Help with my application</td>\n",
       "      <td>Yes, How can we help?</td>\n",
       "    </tr>\n",
       "    <tr>\n",
       "      <th>3</th>\n",
       "      <td>What are the most typical benefits offered by ...</td>\n",
       "      <td>5 Weeks of vacation, multisports card and sodexho</td>\n",
       "    </tr>\n",
       "    <tr>\n",
       "      <th>4</th>\n",
       "      <td>What roles do you have available?</td>\n",
       "      <td>Consultants, Project Managers and DevOps engin...</td>\n",
       "    </tr>\n",
       "  </tbody>\n",
       "</table>\n",
       "</div>"
      ],
      "text/plain": [
       "                                                   0  \\\n",
       "0       I am looking for companies hiring in Prague!   \n",
       "1                        Looking for something in IT   \n",
       "2                    I need Help with my application   \n",
       "3  What are the most typical benefits offered by ...   \n",
       "4                  What roles do you have available?   \n",
       "\n",
       "                                                   1  \n",
       "0        Companies hiring in Prague we Have Devoteam  \n",
       "1  Devoteam is hiring consultants for Diverse IT ...  \n",
       "2                              Yes, How can we help?  \n",
       "3  5 Weeks of vacation, multisports card and sodexho  \n",
       "4  Consultants, Project Managers and DevOps engin...  "
      ]
     },
     "execution_count": 42,
     "metadata": {},
     "output_type": "execute_result"
    }
   ],
   "source": [
    "sample_data.head()"
   ]
  },
  {
   "cell_type": "code",
   "execution_count": 43,
   "metadata": {},
   "outputs": [
    {
     "data": {
      "text/html": [
       "<div>\n",
       "<style scoped>\n",
       "    .dataframe tbody tr th:only-of-type {\n",
       "        vertical-align: middle;\n",
       "    }\n",
       "\n",
       "    .dataframe tbody tr th {\n",
       "        vertical-align: top;\n",
       "    }\n",
       "\n",
       "    .dataframe thead th {\n",
       "        text-align: right;\n",
       "    }\n",
       "</style>\n",
       "<table border=\"1\" class=\"dataframe\">\n",
       "  <thead>\n",
       "    <tr style=\"text-align: right;\">\n",
       "      <th></th>\n",
       "      <th>0</th>\n",
       "      <th>1</th>\n",
       "    </tr>\n",
       "  </thead>\n",
       "  <tbody>\n",
       "    <tr>\n",
       "      <th>3</th>\n",
       "      <td>What are the most typical benefits offered by ...</td>\n",
       "      <td>5 Weeks of vacation, multisports card and sodexho</td>\n",
       "    </tr>\n",
       "    <tr>\n",
       "      <th>4</th>\n",
       "      <td>What roles do you have available?</td>\n",
       "      <td>Consultants, Project Managers and DevOps engin...</td>\n",
       "    </tr>\n",
       "    <tr>\n",
       "      <th>5</th>\n",
       "      <td>Largest company you know</td>\n",
       "      <td>Skoda</td>\n",
       "    </tr>\n",
       "    <tr>\n",
       "      <th>6</th>\n",
       "      <td>Tell me the most in-demand skills</td>\n",
       "      <td>Our job skills required report that the most d...</td>\n",
       "    </tr>\n",
       "    <tr>\n",
       "      <th>7</th>\n",
       "      <td>Give me job description for the most recent jo...</td>\n",
       "      <td>Here is the link so you can read the whole job...</td>\n",
       "    </tr>\n",
       "  </tbody>\n",
       "</table>\n",
       "</div>"
      ],
      "text/plain": [
       "                                                   0  \\\n",
       "3  What are the most typical benefits offered by ...   \n",
       "4                  What roles do you have available?   \n",
       "5                           Largest company you know   \n",
       "6                  Tell me the most in-demand skills   \n",
       "7  Give me job description for the most recent jo...   \n",
       "\n",
       "                                                   1  \n",
       "3  5 Weeks of vacation, multisports card and sodexho  \n",
       "4  Consultants, Project Managers and DevOps engin...  \n",
       "5                                             Skoda   \n",
       "6  Our job skills required report that the most d...  \n",
       "7  Here is the link so you can read the whole job...  "
      ]
     },
     "execution_count": 43,
     "metadata": {},
     "output_type": "execute_result"
    }
   ],
   "source": [
    "sample_data.tail()"
   ]
  },
  {
   "cell_type": "markdown",
   "metadata": {},
   "source": [
    "#####  3. Columns from the dataframe as list, using dataframes methods"
   ]
  },
  {
   "cell_type": "code",
   "execution_count": 37,
   "metadata": {},
   "outputs": [],
   "source": [
    "question_list = sample_data[0].values.tolist()\n",
    "answers_list = sample_data[1].values.tolist()"
   ]
  },
  {
   "cell_type": "markdown",
   "metadata": {},
   "source": [
    "#####  4. Test sample data: User Query"
   ]
  },
  {
   "cell_type": "code",
   "execution_count": 117,
   "metadata": {},
   "outputs": [],
   "source": [
    "query = 'what roles are vacant'"
   ]
  },
  {
   "cell_type": "markdown",
   "metadata": {},
   "source": [
    "#####  5. TF-ID Vector object instance"
   ]
  },
  {
   "cell_type": "code",
   "execution_count": 118,
   "metadata": {},
   "outputs": [],
   "source": [
    "vectorizer = TfidfVectorizer(min_df=0, ngram_range=(2,4), strip_accents='unicode', norm='l2', encoding='ISO-8858-1')"
   ]
  },
  {
   "cell_type": "markdown",
   "metadata": {},
   "source": [
    "#####  6. Data converted to document term- matrix"
   ]
  },
  {
   "cell_type": "code",
   "execution_count": 119,
   "metadata": {},
   "outputs": [],
   "source": [
    "# create an array for our train data set \n",
    "# Learn vocabulary and idf, return term-document matrix.\n",
    "X_train = vectorizer.fit_transform(np.array([''.join(question) for question in question_list]))\n",
    "\n",
    "#Transform documents to document-term matrix.\n",
    "#Uses the vocabulary and document frequencies (df) learned by fit (or fit_transform)\n",
    "X_query = vectorizer.transform([query])\n",
    "\n"
   ]
  },
  {
   "cell_type": "code",
   "execution_count": 120,
   "metadata": {},
   "outputs": [
    {
     "name": "stdout",
     "output_type": "stream",
     "text": [
      "(1, 113)\n",
      "(8, 113)\n"
     ]
    }
   ],
   "source": [
    "print(X_query.shape)\n",
    "print(X_train.shape)"
   ]
  },
  {
   "cell_type": "markdown",
   "metadata": {},
   "source": [
    "##### 7. Process Query"
   ]
  },
  {
   "cell_type": "code",
   "execution_count": 121,
   "metadata": {},
   "outputs": [
    {
     "data": {
      "text/plain": [
       "(113, 1)"
      ]
     },
     "execution_count": 121,
     "metadata": {},
     "output_type": "execute_result"
    }
   ],
   "source": [
    "X_query.transpose().shape"
   ]
  },
  {
   "cell_type": "code",
   "execution_count": 122,
   "metadata": {},
   "outputs": [],
   "source": [
    "X_similarity = np.dot(X_train.todense(), X_query.transpose().todense())"
   ]
  },
  {
   "cell_type": "code",
   "execution_count": 123,
   "metadata": {},
   "outputs": [
    {
     "name": "stdout",
     "output_type": "stream",
     "text": [
      "<class 'numpy.matrixlib.defmatrix.matrix'>\n"
     ]
    }
   ],
   "source": [
    "X_similarity.shape\n",
    "# we got 8 rows 1 column. Each having the scalar obtained from the inner product\n",
    "print(type(X_similarity))"
   ]
  },
  {
   "cell_type": "code",
   "execution_count": 124,
   "metadata": {},
   "outputs": [],
   "source": [
    "x_similarity_score = np.array(X_similarity).flatten().tolist()"
   ]
  },
  {
   "cell_type": "code",
   "execution_count": 125,
   "metadata": {},
   "outputs": [
    {
     "data": {
      "text/plain": [
       "[0.0, 0.0, 0.0, 0.0, 0.2886751345948129, 0.0, 0.0, 0.0]"
      ]
     },
     "execution_count": 125,
     "metadata": {},
     "output_type": "execute_result"
    }
   ],
   "source": [
    "x_similarity_score"
   ]
  },
  {
   "cell_type": "markdown",
   "metadata": {},
   "source": [
    "#####  8. Rank Results"
   ]
  },
  {
   "cell_type": "code",
   "execution_count": 126,
   "metadata": {},
   "outputs": [],
   "source": [
    "dict_similarities = dict(enumerate(x_similarity_score))\n",
    "sorted_dict_sim = sorted(dict_similarities.items(), key=operator.itemgetter(1), reverse = True) #list"
   ]
  },
  {
   "cell_type": "code",
   "execution_count": 127,
   "metadata": {},
   "outputs": [
    {
     "data": {
      "text/plain": [
       "'i'"
      ]
     },
     "execution_count": 127,
     "metadata": {},
     "output_type": "execute_result"
    }
   ],
   "source": [
    "operator.itemgetter(1)('list')"
   ]
  },
  {
   "cell_type": "code",
   "execution_count": 128,
   "metadata": {},
   "outputs": [
    {
     "data": {
      "text/plain": [
       "dict_items([(0, 0.0), (1, 0.0), (2, 0.0), (3, 0.0), (4, 0.2886751345948129), (5, 0.0), (6, 0.0), (7, 0.0)])"
      ]
     },
     "execution_count": 128,
     "metadata": {},
     "output_type": "execute_result"
    }
   ],
   "source": [
    "dict_similarities.items()"
   ]
  },
  {
   "cell_type": "code",
   "execution_count": 129,
   "metadata": {},
   "outputs": [
    {
     "name": "stdout",
     "output_type": "stream",
     "text": [
      "[(7, 0.0), (6, 0.0), (5, 0.0), (4, 0.2886751345948129), (3, 0.0), (2, 0.0), (1, 0.0), (0, 0.0)]\n"
     ]
    }
   ],
   "source": [
    "sorted_only = sorted(dict_similarities.items(), reverse=True)\n",
    "print(sorted_only)"
   ]
  },
  {
   "cell_type": "code",
   "execution_count": 130,
   "metadata": {},
   "outputs": [
    {
     "name": "stdout",
     "output_type": "stream",
     "text": [
      "[(4, 0.2886751345948129), (0, 0.0), (1, 0.0), (2, 0.0), (3, 0.0), (5, 0.0), (6, 0.0), (7, 0.0)]\n"
     ]
    }
   ],
   "source": [
    "sorted_only_key = sorted(dict_similarities.items(), key=operator.itemgetter(1), reverse=True)\n",
    "print(sorted_only_key)"
   ]
  },
  {
   "cell_type": "code",
   "execution_count": 132,
   "metadata": {},
   "outputs": [
    {
     "name": "stdout",
     "output_type": "stream",
     "text": [
      "<class 'list'>\n"
     ]
    }
   ],
   "source": [
    "print(type(sorted_dict_sim))"
   ]
  },
  {
   "cell_type": "code",
   "execution_count": 133,
   "metadata": {},
   "outputs": [
    {
     "name": "stdout",
     "output_type": "stream",
     "text": [
      "Consultants, Project Managers and DevOps engineers\n"
     ]
    }
   ],
   "source": [
    "if sorted_dict_sim[0][1]==0:\n",
    "    print('I have no answer at the moment')\n",
    "    \n",
    "elif sorted_dict_sim[0][1]>0:\n",
    "    print(answers_list[sorted_dict_sim[0][0]]) # accesing the dataframe with the higher TF-IDF\n",
    "    "
   ]
  },
  {
   "cell_type": "code",
   "execution_count": null,
   "metadata": {},
   "outputs": [],
   "source": []
  }
 ],
 "metadata": {
  "kernelspec": {
   "display_name": "Python 3",
   "language": "python",
   "name": "python3"
  },
  "language_info": {
   "codemirror_mode": {
    "name": "ipython",
    "version": 3
   },
   "file_extension": ".py",
   "mimetype": "text/x-python",
   "name": "python",
   "nbconvert_exporter": "python",
   "pygments_lexer": "ipython3",
   "version": "3.6.7"
  }
 },
 "nbformat": 4,
 "nbformat_minor": 2
}
